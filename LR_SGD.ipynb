{
  "nbformat": 4,
  "nbformat_minor": 0,
  "metadata": {
    "colab": {
      "name": "LR_SGD.ipynb",
      "version": "0.3.2",
      "provenance": [],
      "collapsed_sections": []
    },
    "kernelspec": {
      "name": "python3",
      "display_name": "Python 3"
    },
    "accelerator": "GPU"
  },
  "cells": [
    {
      "metadata": {
        "id": "-tm7TNtTHARH",
        "colab_type": "text"
      },
      "cell_type": "markdown",
      "source": [
        "# Loading the dataset\n"
      ]
    },
    {
      "metadata": {
        "id": "iyKh0ulLHA3F",
        "colab_type": "code",
        "colab": {}
      },
      "cell_type": "code",
      "source": [
        "import pandas as pd\n",
        "from sklearn.datasets import load_boston\n",
        "boston_house=load_boston()\n",
        "house_features=pd.DataFrame(boston_house.data)\n",
        "house_features.columns=boston_house.feature_names\n",
        "house_price=boston_house.target\n",
        "\n",
        "\n"
      ],
      "execution_count": 0,
      "outputs": []
    },
    {
      "metadata": {
        "id": "mijizo2s0Zpn",
        "colab_type": "text"
      },
      "cell_type": "markdown",
      "source": [
        "#  Doing the data standardization "
      ]
    },
    {
      "metadata": {
        "id": "yWhtd6ss0b1t",
        "colab_type": "code",
        "colab": {}
      },
      "cell_type": "code",
      "source": [
        "from sklearn.preprocessing import StandardScaler\n",
        "input_transform=StandardScaler()\n",
        "house_features=input_transform.fit_transform(house_features)\n",
        "output_transform=StandardScaler()\n",
        "house_price=output_transform.fit_transform(house_price.reshape(-1, 1))\n",
        "house_price=house_price.reshape(len(house_price))\n",
        "#print(house_features)\n"
      ],
      "execution_count": 0,
      "outputs": []
    },
    {
      "metadata": {
        "id": "39N_ahtegpYy",
        "colab_type": "text"
      },
      "cell_type": "markdown",
      "source": [
        "# Split the data "
      ]
    },
    {
      "metadata": {
        "id": "1SCwApeqgr4_",
        "colab_type": "code",
        "colab": {
          "base_uri": "https://localhost:8080/",
          "height": 34
        },
        "outputId": "cabcfea5-32a4-43ef-cade-ff9b3a482d9b"
      },
      "cell_type": "code",
      "source": [
        "from sklearn.model_selection import train_test_split\n",
        "train_x,test_x,train_y,test_y=train_test_split(house_features,house_price,test_size=0.25)\n",
        "print(train_x.shape,train_y.shape,test_x.shape,test_y.shape)"
      ],
      "execution_count": 3,
      "outputs": [
        {
          "output_type": "stream",
          "text": [
            "(379, 13) (379,) (127, 13) (127,)\n"
          ],
          "name": "stdout"
        }
      ]
    },
    {
      "metadata": {
        "id": "jVz8-6DS0jBA",
        "colab_type": "text"
      },
      "cell_type": "markdown",
      "source": [
        "# solving with sklearn linear regression"
      ]
    },
    {
      "metadata": {
        "id": "I5U9LPJu0khp",
        "colab_type": "code",
        "colab": {
          "base_uri": "https://localhost:8080/",
          "height": 68
        },
        "outputId": "44cdab23-220c-40cd-d536-9291ef4fdc8f"
      },
      "cell_type": "code",
      "source": [
        "from sklearn.linear_model import LinearRegression\n",
        "lr=LinearRegression()\n",
        "lr_plane=lr.fit(train_x,train_y)\n",
        "print(lr_plane.coef_,lr_plane.intercept_)\n",
        "sklearn_predicted=lr_plane.predict(test_x)"
      ],
      "execution_count": 4,
      "outputs": [
        {
          "output_type": "stream",
          "text": [
            "[-0.09376838  0.13215807  0.02370438  0.07940775 -0.26249487  0.23704872\n",
            "  0.09815197 -0.33401176  0.30107779 -0.21152492 -0.25063005  0.0927545\n",
            " -0.48260768] 0.006800342075689676\n"
          ],
          "name": "stdout"
        }
      ]
    },
    {
      "metadata": {
        "id": "QxsOrQRH0vLN",
        "colab_type": "text"
      },
      "cell_type": "markdown",
      "source": [
        "#  Gradient descent algorithm implementation"
      ]
    },
    {
      "metadata": {
        "id": "g5KuoMta0wrL",
        "colab_type": "code",
        "colab": {
          "base_uri": "https://localhost:8080/",
          "height": 412
        },
        "outputId": "e0ced3f6-a09e-45cd-d0cc-b55ccbfe87c8"
      },
      "cell_type": "code",
      "source": [
        "import numpy as np\n",
        "import seaborn as sb\n",
        "import matplotlib.pyplot as plt\n",
        "train_errors=[]\n",
        "test_errors=[]\n",
        "iterations=[]\n",
        "def gradient_descent(x_i,y_i,learning_rate ,w,intercept,no_of_iterations,test_x,test_y):\n",
        "  for i in range(no_of_iterations):\n",
        "    predicted=np.dot(x_i,w)  #predicted output using current normal vector\n",
        "    error=predicted-y_i      # Error of while predicting\n",
        "    gradient=np.dot(x_i.T,error) #multiplying (w.x_i-y_i)*x_i\n",
        "    ###\n",
        "    predicted1=np.dot(test_x,w)\n",
        "    error1=predicted1-test_y\n",
        "    test_error_sum=np.sum(output_transform.inverse_transform(error1**2))/len(test_x)\n",
        "    test_errors.append(test_error_sum)\n",
        "    ###\n",
        "    previous_w=w        # previous w used for how much is normal vector is changed so that it would be useful toterminate the loop.\n",
        "    w=w-learning_rate * gradient # 'w' is new computed normal vector which is subtracted from previousw times learning rate which is alpha\n",
        "    train_error=np.sum(output_transform.inverse_transform(error**2))/len(train_x)   # summing the whole error it is useful for how much error is decreased from one iteration to another iteration\n",
        "    intercept=intercept-learning_rate*train_error\n",
        "    train_errors.append(train_error)\n",
        "    iterations.append(i+1)\n",
        "    if(sum(w-previous_w <=0.000000001)==13):\n",
        "      print(\"No.of iterations required for converging\",i)\n",
        "      MSE=np.sum(output_transform.inverse_transform(error**2))/len(train_x)\n",
        "      print(\"The error is\",MSE)\n",
        "      \n",
        "      return w,intercept,MSE\n",
        "  return w,intercept,MSE\n",
        "\n",
        "\n",
        "\n",
        "\n",
        "def gradient_descent_b(x_i,y_i,learning_rate ,w,intercept,no_of_iterations,test_x,test_y):\n",
        "  for i in range(no_of_iterations):\n",
        "    predicted=np.dot(x_i,w)+intercept  #predicted output using current normal vector\n",
        "    error=np.sum(predicted-y_i )     # Error of while predicting\n",
        "    #gradient=np.dot(x_i.T,error) #multiplying (w.x_i-y_i)*x_i\n",
        "    ###\n",
        "    #predicted1=np.dot(test_x,w)\n",
        "    #error1=predicted1-test_y\n",
        "    #test_error_sum=np.sum(output_transform.inverse_transform(error1**2))/len(test_x)\n",
        "    #test_errors.append(test_error_sum)\n",
        "    ###\n",
        "    previous_intercept=intercept      # previous w used for how much is normal vector is changed so that it would be useful toterminate the loop.\n",
        "    intercept=intercept-learning_rate * error # 'w' is new computed normal vector which is subtracted from previousw times learning rate which is alpha\n",
        "    #train_error=np.sum(output_transform.inverse_transform(error**2))/len(train_x)   # summing the whole error it is useful for how much error is decreased from one iteration to another iteration\n",
        "    #intercept=intercept-learning_rate*train_error\n",
        "    #train_errors.append(train_error)\n",
        "    #iterations.append(i+1)\n",
        "    #if(sum(w-previous_w <=0.000000001)==13):\n",
        "     # print(\"No.of iterations required for converging\",i)\n",
        "     # print(\"The error is\",np.sum(output_transform.inverse_transform(error**2))/len(train_x))\n",
        "      \n",
        "      #return w,intercept\n",
        "  #return w,intercept\n",
        "  print(intercept)\n",
        "  return intercept\n",
        "\n",
        "\n",
        "\n",
        "\n",
        "\n",
        "w=gradient_descent(train_x,train_y,0.0001,np.random.normal(0,0.01,13),0,100000,test_x,test_y)\n",
        "#print(w)  \n",
        "intercept=gradient_descent_b(train_x,train_y,0.0001,w[0],0,10000,test_x,test_y)\n",
        "plt.plot(iterations,train_errors,label=\"train_error\")\n",
        "plt.plot(iterations,test_errors,label=\"test_error\")\n",
        "min_list=[np.min(train_errors),np.min(test_errors)]#gradient_descent(train_x,train_y,0.0001,np.random.normal(0,0.01,13),0,100000,test_x,test_y)\n",
        "max_list=[np.max(train_errors),np.max(test_errors)]\n",
        "plt.ylim(np.min(min_list)-1,np.max(max_list)+1)\n",
        "plt.grid(True)\n",
        "plt.xlabel(\"No.of Iterations\")\n",
        "plt.ylabel(\"error\")\n",
        "plt.legend()\n",
        "plt.show()\n",
        "\n"
      ],
      "execution_count": 11,
      "outputs": [
        {
          "output_type": "stream",
          "text": [
            "No.of iterations required for converging 5699\n",
            "The error is 25.123389382961335\n",
            "0.006697613270936404\n"
          ],
          "name": "stdout"
        },
        {
          "output_type": "display_data",
          "data": {
            "image/png": "[encoded data removed]",
            "text/plain": [
              "<matplotlib.figure.Figure at 0x7f307c4b9ac8>"
            ]
          },
          "metadata": {
            "tags": []
          }
        }
      ]
    },
    {
      "metadata": {
        "id": "y1ZWvS1nYe_T",
        "colab_type": "text"
      },
      "cell_type": "markdown",
      "source": [
        "#Observation\n",
        "**From the above plot we can see that as the no.of iterations increasing the error is decresed for both traing and test data and forms an L shape which means model is performance is good  **\n",
        "\n",
        "\n"
      ]
    },
    {
      "metadata": {
        "id": "ir7BBz_RAc1-",
        "colab_type": "text"
      },
      "cell_type": "markdown",
      "source": [
        "**For the gradient descent algorithm I have chosen the learning_rate to be 0.0001 and initial intercept to be '0' and to converge, algorithm took 4183 iterations.**\n",
        "\n",
        "\n",
        "**gradient_descent() Parameters:**\n",
        "\n",
        "**house_features** : input features<br>\n",
        "**house_price** : output values<br>\n",
        "**learning_rate**: rate at whcih gradient learn <br>\n",
        "**w** : Initial normal vector from N(0,0.01)<br>\n",
        "**Initial intercept** : 0<br>\n",
        "**No.of iterations** : 100000\n",
        "\n",
        "\n",
        " "
      ]
    },
    {
      "metadata": {
        "id": "7nN-heNU1qrG",
        "colab_type": "code",
        "colab": {
          "base_uri": "https://localhost:8080/",
          "height": 612
        },
        "outputId": "0f3dc258-3306-4973-c028-e76c8ace81c7"
      },
      "cell_type": "code",
      "source": [
        "#!pip install beautifultable\n",
        "from beautifultable import BeautifulTable\n",
        "table = BeautifulTable()\n",
        "table.insert_column(0,\"sklearn\",lr_plane.coef_)\n",
        "table.insert_column(1,\"implemented\",w[0])\n",
        "\n",
        "\n",
        "table1 = BeautifulTable()\n",
        "table1.column_headers=[\"sklaern_intercept\",\"impemented_code_intercept\"]\n",
        "table1.insert_row(0,[lr_plane.intercept_,intercept])\n",
        "print(table)\n",
        "print(\"**************************************\")\n",
        "print(table1)\n"
      ],
      "execution_count": 47,
      "outputs": [
        {
          "output_type": "stream",
          "text": [
            "+---------+-------------+\n",
            "| sklearn | implemented |\n",
            "+---------+-------------+\n",
            "| -0.094  |   -0.094    |\n",
            "+---------+-------------+\n",
            "|  0.132  |    0.132    |\n",
            "+---------+-------------+\n",
            "|  0.024  |    0.023    |\n",
            "+---------+-------------+\n",
            "|  0.079  |    0.08     |\n",
            "+---------+-------------+\n",
            "| -0.262  |   -0.263    |\n",
            "+---------+-------------+\n",
            "|  0.237  |    0.237    |\n",
            "+---------+-------------+\n",
            "|  0.098  |    0.098    |\n",
            "+---------+-------------+\n",
            "| -0.334  |   -0.335    |\n",
            "+---------+-------------+\n",
            "|  0.301  |    0.302    |\n",
            "+---------+-------------+\n",
            "| -0.212  |   -0.211    |\n",
            "+---------+-------------+\n",
            "| -0.251  |   -0.251    |\n",
            "+---------+-------------+\n",
            "|  0.093  |    0.093    |\n",
            "+---------+-------------+\n",
            "| -0.483  |   -0.483    |\n",
            "+---------+-------------+\n",
            "**************************************\n",
            "+-------------------+---------------------------+\n",
            "| sklaern_intercept | impemented_code_intercept |\n",
            "+-------------------+---------------------------+\n",
            "|       0.007       |           0.007           |\n",
            "+-------------------+---------------------------+\n"
          ],
          "name": "stdout"
        }
      ]
    },
    {
      "metadata": {
        "id": "GdQ5jzTnsuQC",
        "colab_type": "text"
      },
      "cell_type": "markdown",
      "source": [
        "# Mean square error of train/test data with Implemeted SGD"
      ]
    },
    {
      "metadata": {
        "id": "usYE_XOHjXon",
        "colab_type": "code",
        "colab": {
          "base_uri": "https://localhost:8080/",
          "height": 51
        },
        "outputId": "0147c229-3a7e-476b-f36f-0788a06b1415"
      },
      "cell_type": "code",
      "source": [
        "\n",
        "from sklearn.metrics import mean_squared_error,r2_score\n",
        "print(\"Mean square Error for Train data is \",w[2])\n",
        "imp_prediction=np.dot(test_x,w[0])\n",
        "print(\"Mean square Error for Test data\", mean_squared_error(output_transform.inverse_transform(test_y),output_transform.inverse_transform(imp_prediction)))\n"
      ],
      "execution_count": 22,
      "outputs": [
        {
          "output_type": "stream",
          "text": [
            "Mean square Error for Train data is  25.123389382961335\n",
            "Mean square Error for Test data 17.823474652899513\n"
          ],
          "name": "stdout"
        }
      ]
    },
    {
      "metadata": {
        "id": "8MTI9Jf5Anvd",
        "colab_type": "text"
      },
      "cell_type": "markdown",
      "source": [
        "**The MSE on test data is less than train error which indicates that model is working pretty well. **"
      ]
    },
    {
      "metadata": {
        "id": "47t6wdVtpL7H",
        "colab_type": "text"
      },
      "cell_type": "markdown",
      "source": [
        "# Plot of  y_predicted vs y_true for implemented sgd\n"
      ]
    },
    {
      "metadata": {
        "id": "dENziX25pMoL",
        "colab_type": "code",
        "colab": {
          "base_uri": "https://localhost:8080/",
          "height": 735
        },
        "outputId": "85d4ab88-c547-40fc-c09f-6d6ed60ab356"
      },
      "cell_type": "code",
      "source": [
        "plt.plot(output_transform.inverse_transform(test_y),output_transform.inverse_transform(sklearn_predicted),\"o\")\n",
        "plt.grid(True)\n",
        "plt.title(\"R^2=\"+str(r2_score(output_transform.inverse_transform(test_y),output_transform.inverse_transform(imp_prediction))))\n",
        "plt.xlabel(\"test_y (Actual)\")\n",
        "plt.ylabel(\"y_predicted (Implemeted code)\")\n",
        "plt.show()\n",
        "\n",
        "plt.plot(output_transform.inverse_transform(sklearn_predicted),output_transform.inverse_transform(imp_prediction),\"o\")\n",
        "plt.grid(True)\n",
        "plt.title(\"R^2=\"+str(r2_score(output_transform.inverse_transform(sklearn_predicted),output_transform.inverse_transform(imp_prediction))))\n",
        "plt.xlabel(\"sklearn_prediction(y_prediction)\")\n",
        "plt.ylabel(\"Implemented(y_prediction)\")\n",
        "plt.show()"
      ],
      "execution_count": 49,
      "outputs": [
        {
          "output_type": "display_data",
          "data": {
            "image/png": "[encoded data removed]",
            "text/plain": [
              "<matplotlib.figure.Figure at 0x7f307c0ea940>"
            ]
          },
          "metadata": {
            "tags": []
          }
        },
        {
          "output_type": "display_data",
          "data": {
            "image/png": "[encoded data removed]",
            "text/plain": [
              "<matplotlib.figure.Figure at 0x7f307c3239e8>"
            ]
          },
          "metadata": {
            "tags": []
          }
        }
      ]
    },
    {
      "metadata": {
        "id": "Gqp6_CyEA-Ek",
        "colab_type": "text"
      },
      "cell_type": "markdown",
      "source": [
        "# Observations\n",
        "1. **$R^{2}$ plot for Actual_Y vs predicted_Y(Implemented SGD) giving a value of 0.7 which is quite good.**\n",
        "\n",
        "2.  **Both SGD Implemntation and sklearn are providing same results which we can from above plot which has $R^{2}$=0.99 which is exactly same .**"
      ]
    },
    {
      "metadata": {
        "id": "nmZ7lM3ruGdY",
        "colab_type": "text"
      },
      "cell_type": "markdown",
      "source": [
        "# sklearn SGD_REGRESSOR"
      ]
    },
    {
      "metadata": {
        "id": "tibBgB7muI1Y",
        "colab_type": "code",
        "colab": {
          "base_uri": "https://localhost:8080/",
          "height": 666
        },
        "outputId": "5dd185bb-444d-45fa-9f1e-2df1d90a8957"
      },
      "cell_type": "code",
      "source": [
        "from sklearn.linear_model import SGDRegressor\n",
        "regression=SGDRegressor(loss=\"squared_loss\",penalty=\"none\")\n",
        "plane=regression.fit(train_x,train_y)\n",
        "plane.coef_\n",
        "predicted_y=plane.predict(test_x)\n",
        "train_error=plane.predict(train_x)\n",
        "from beautifultable import BeautifulTable\n",
        "table=BeautifulTable()\n",
        "table.insert_column(0,\"SGD_REGRESSOR\",plane.coef_)\n",
        "table.insert_column(1,\"sklearn\",lr_plane.coef_)\n",
        "table.insert_column(2,\"implemented\",w[0])\n",
        "\n",
        "print(table)\n",
        "\n",
        "table1 = BeautifulTable()\n",
        "table1.column_headers=[\"SGD_REGRESSOR_intercept\",\"sklaern_intercept\",\"impemented_code_intercept\"]\n",
        "table1.insert_row(0,[plane.intercept_,lr_plane.intercept_,intercept])\n",
        "print(\"**************************************\")\n",
        "print(table1)\n"
      ],
      "execution_count": 51,
      "outputs": [
        {
          "output_type": "stream",
          "text": [
            "+---------------+---------+-------------+\n",
            "| SGD_REGRESSOR | sklearn | implemented |\n",
            "+---------------+---------+-------------+\n",
            "|    -0.072     | -0.094  |   -0.094    |\n",
            "+---------------+---------+-------------+\n",
            "|     0.08      |  0.132  |    0.132    |\n",
            "+---------------+---------+-------------+\n",
            "|    -0.043     |  0.024  |    0.023    |\n",
            "+---------------+---------+-------------+\n",
            "|     0.095     |  0.079  |    0.08     |\n",
            "+---------------+---------+-------------+\n",
            "|    -0.127     | -0.262  |   -0.263    |\n",
            "+---------------+---------+-------------+\n",
            "|     0.32      |  0.237  |    0.237    |\n",
            "+---------------+---------+-------------+\n",
            "|     0.03      |  0.098  |    0.098    |\n",
            "+---------------+---------+-------------+\n",
            "|    -0.206     | -0.334  |   -0.335    |\n",
            "+---------------+---------+-------------+\n",
            "|     0.077     |  0.301  |    0.302    |\n",
            "+---------------+---------+-------------+\n",
            "|    -0.046     | -0.212  |   -0.211    |\n",
            "+---------------+---------+-------------+\n",
            "|    -0.213     | -0.251  |   -0.251    |\n",
            "+---------------+---------+-------------+\n",
            "|     0.105     |  0.093  |    0.093    |\n",
            "+---------------+---------+-------------+\n",
            "|    -0.408     | -0.483  |   -0.483    |\n",
            "+---------------+---------+-------------+\n",
            "**************************************\n",
            "+-------------------------+-------------------+--------------------------------+\n",
            "| SGD_REGRESSOR_intercept | sklaern_intercept |   impemented_code_intercept    |\n",
            "+-------------------------+-------------------+--------------------------------+\n",
            "|      [0.01242744]       |       0.007       |             0.007              |\n",
            "+-------------------------+-------------------+--------------------------------+\n"
          ],
          "name": "stdout"
        },
        {
          "output_type": "stream",
          "text": [
            "/usr/local/lib/python3.6/dist-packages/sklearn/linear_model/stochastic_gradient.py:128: FutureWarning: max_iter and tol parameters have been added in <class 'sklearn.linear_model.stochastic_gradient.SGDRegressor'> in 0.19. If both are left unset, they default to max_iter=5 and tol=None. If tol is not None, max_iter defaults to max_iter=1000. From 0.21, default max_iter will be 1000, and default tol will be 1e-3.\n",
            "  \"and default tol will be 1e-3.\" % type(self), FutureWarning)\n"
          ],
          "name": "stderr"
        }
      ]
    },
    {
      "metadata": {
        "id": "JZBgHhwYWuDS",
        "colab_type": "code",
        "colab": {
          "base_uri": "https://localhost:8080/",
          "height": 735
        },
        "outputId": "a4218cd6-f4af-4bf1-9b44-400083054f58"
      },
      "cell_type": "code",
      "source": [
        "from sklearn.metrics import r2_score\n",
        "plt.plot(output_transform.inverse_transform(test_y),output_transform.inverse_transform(predicted_y),\"o\")\n",
        "plt.grid(True)\n",
        "plt.title(\"R^2=\"+str(r2_score(output_transform.inverse_transform(test_y),output_transform.inverse_transform(predicted_y))))\n",
        "plt.xlabel(\"test_y\")\n",
        "plt.ylabel(\"y_predicted\")\n",
        "plt.show()\n",
        "\n",
        "\n",
        "\n",
        "plt.plot(output_transform.inverse_transform(imp_prediction),output_transform.inverse_transform(predicted_y),\"o\")\n",
        "plt.grid(True)\n",
        "plt.title(\"R^2=\"+str(r2_score(output_transform.inverse_transform(imp_prediction),output_transform.inverse_transform(predicted_y))))\n",
        "plt.xlabel(\"y_predicted\")\n",
        "plt.ylabel(\"sgd_regression\")\n",
        "plt.show()"
      ],
      "execution_count": 52,
      "outputs": [
        {
          "output_type": "display_data",
          "data": {
            "image/png": "[encoded data removed]",
            "text/plain": [
              "<matplotlib.figure.Figure at 0x7f307c4b92b0>"
            ]
          },
          "metadata": {
            "tags": []
          }
        },
        {
          "output_type": "display_data",
          "data": {
            "image/png": "[encoded data removed]",
            "text/plain": [
              "<matplotlib.figure.Figure at 0x7f307bfb4b70>"
            ]
          },
          "metadata": {
            "tags": []
          }
        }
      ]
    },
    {
      "metadata": {
        "id": "28bVTDuryJMq",
        "colab_type": "text"
      },
      "cell_type": "markdown",
      "source": [
        "# Observations\n",
        "1. **$R^{2}$ plot for Actual_Y vs predicted_Y(Implemented SGD) giving a value of 0.73 which is a better result. **\n",
        "\n",
        "2. **From the above plot we can see that Both the SGD_REGRESSION and implemented regression providing almost exact results for test data and the  $R^{2}$ =0.97 which is approximately equals to 1.**"
      ]
    },
    {
      "metadata": {
        "id": "ZEQA-VcX8CNC",
        "colab_type": "text"
      },
      "cell_type": "markdown",
      "source": [
        "# Mean square errors for SGD_REGRESSOR"
      ]
    },
    {
      "metadata": {
        "id": "79jW5NFL8IiJ",
        "colab_type": "code",
        "colab": {
          "base_uri": "https://localhost:8080/",
          "height": 51
        },
        "outputId": "762bebed-d424-476f-b05e-2622a4c8ca14"
      },
      "cell_type": "code",
      "source": [
        "from sklearn.metrics import mean_squared_error\n",
        "print(\"The mean square error for Training data is\" ,mean_squared_error(output_transform.inverse_transform(train_y),output_transform.inverse_transform(train_error)))\n",
        "print(\"The mean square error for Testing data is\" ,mean_squared_error(output_transform.inverse_transform(test_y),output_transform.inverse_transform(predicted_y)))"
      ],
      "execution_count": 44,
      "outputs": [
        {
          "output_type": "stream",
          "text": [
            "The mean square error for Training data is 25.161943258148682\n",
            "The mean square error for Testing data is 16.542764460482385\n"
          ],
          "name": "stdout"
        }
      ]
    },
    {
      "metadata": {
        "id": "owvCu2-ICirF",
        "colab_type": "text"
      },
      "cell_type": "markdown",
      "source": [
        "**The MSE on test data is less than train error which indicates that model is working pretty well. **"
      ]
    },
    {
      "metadata": {
        "id": "ZjE4wbsa9MZR",
        "colab_type": "text"
      },
      "cell_type": "markdown",
      "source": [
        "# Conclusion:\n",
        "\n",
        "1. **Analyzed boston house price dataset with sklearn.linear_regression and SGD_own_implmentation and SGD_REEGRESSION and ploted their respective relationship plots.**\n",
        "2. **Both implemeted SGD code and SGD_REGRESSION having the almost equal MSE Error and they are perfoming almost same.**\n",
        "\n",
        "3. **When calculated for $R^{2}$ between SGD_implmentation and SGD_REGRESSOR, they have  $R^{2}$ around the 1 which indicates that they are perfoming same on the test data.**"
      ]
    }
  ]
}